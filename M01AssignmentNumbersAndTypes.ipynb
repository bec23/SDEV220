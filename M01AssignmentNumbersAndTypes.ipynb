{
 "cells": [
  {
   "cell_type": "code",
   "execution_count": 2,
   "id": "7db1b2a3-65ea-4713-9c20-89aea40142c0",
   "metadata": {},
   "outputs": [
    {
     "name": "stdout",
     "output_type": "stream",
     "text": [
      "3600\n"
     ]
    }
   ],
   "source": [
    "seconds = 60\n",
    "minutes = 60\n",
    "sec_hour = seconds * minutes\n",
    "print (sec_hour)"
   ]
  },
  {
   "cell_type": "code",
   "execution_count": 4,
   "id": "16c89859-8e15-4826-9606-eeb6de747399",
   "metadata": {},
   "outputs": [
    {
     "name": "stdout",
     "output_type": "stream",
     "text": [
      "3600\n"
     ]
    }
   ],
   "source": [
    "seconds_per_hour = sec_hour\n",
    "print (seconds_per_hour)"
   ]
  },
  {
   "cell_type": "code",
   "execution_count": 6,
   "id": "ef491873-dfdf-4f23-8db0-f02937f28cff",
   "metadata": {},
   "outputs": [
    {
     "name": "stdout",
     "output_type": "stream",
     "text": [
      "86400\n"
     ]
    }
   ],
   "source": [
    "hours = 24\n",
    "seconds_per_day = seconds_per_hour * hours\n",
    "print (seconds_per_day)"
   ]
  },
  {
   "cell_type": "code",
   "execution_count": 18,
   "id": "48aad859-f2dc-4ef3-945c-1b727b3b708f",
   "metadata": {},
   "outputs": [
    {
     "name": "stdout",
     "output_type": "stream",
     "text": [
      "24.0\n"
     ]
    }
   ],
   "source": [
    "day_dividedby_hour = seconds_per_day / seconds_per_hour\n",
    "print (day_dividedby_hour)"
   ]
  },
  {
   "cell_type": "code",
   "execution_count": 20,
   "id": "0fe59d95-3c4c-4156-a2e7-418a8977d9cd",
   "metadata": {},
   "outputs": [
    {
     "name": "stdout",
     "output_type": "stream",
     "text": [
      "24\n"
     ]
    }
   ],
   "source": [
    "day_dividedby_hour2 = seconds_per_day // seconds_per_hour\n",
    "print (day_dividedby_hour2)"
   ]
  },
  {
   "cell_type": "code",
   "execution_count": null,
   "id": "b60ee61f-fe3a-427f-bdab-176c7b27446e",
   "metadata": {},
   "outputs": [],
   "source": []
  }
 ],
 "metadata": {
  "kernelspec": {
   "display_name": "Python 3 (ipykernel)",
   "language": "python",
   "name": "python3"
  },
  "language_info": {
   "codemirror_mode": {
    "name": "ipython",
    "version": 3
   },
   "file_extension": ".py",
   "mimetype": "text/x-python",
   "name": "python",
   "nbconvert_exporter": "python",
   "pygments_lexer": "ipython3",
   "version": "3.12.7"
  }
 },
 "nbformat": 4,
 "nbformat_minor": 5
}
